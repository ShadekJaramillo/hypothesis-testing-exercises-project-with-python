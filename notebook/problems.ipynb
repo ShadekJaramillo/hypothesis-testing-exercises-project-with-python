{
 "cells": [
  {
   "cell_type": "markdown",
   "id": "d9d036c6",
   "metadata": {},
   "source": [
    "# Hypothesis testing problems"
   ]
  },
  {
   "cell_type": "markdown",
   "id": "d157c4db",
   "metadata": {},
   "source": [
    "## Exercise 1\n",
    "\n",
    "You are a nutritionist researching two different types of diets to see if there is a significant difference in weight loss after one month. You choose two random groups of people; one group follows the first diet, and the other follows the second. At the end of the month, you record the weight loss (in kg) for each person:\n",
    "\n",
    "| Diet 1 | Diet 2 |\n",
    "|:-------|:-------|\n",
    "| 2.0 | 3.0 |\n",
    "| 2.5 | 3.2 |\n",
    "| 3.0 | 3.1 |\n",
    "| 2.8 | 2.9 |\n",
    "| 2.3 | 2.8 |\n",
    "| 2.7 | 3.0 |\n",
    "| 2.5 | 3.2 |\n",
    "\n",
    "With these data, it seeks to answer the following question: Is there a significant difference in average weight loss between people who followed the first diet and those who followed the second diet?\n",
    "\n",
    "To draw conclusions, follow the points below:\n",
    "\n",
    "- State the hypothesis: null and alternative hypothesis.\n",
    "- Perform the test to test the hypothesis. You can use a Student's t-test.\n",
    "- Analyze the conclusions."
   ]
  },
  {
   "cell_type": "markdown",
   "id": "2eb7be49",
   "metadata": {},
   "source": [
    "#### **Hypotesis**\n",
    "\n",
    "One of the diets is more effective for goal of losing weight. \n",
    "\n",
    "$$\n",
    "H_1: \\mu _1 \\neq \\mu _2\\\\\n",
    "H_0: \\mu _1 = \\mu _2 \n",
    "$$\n",
    "\n",
    "where $\\mu _1$ represents the weight loss of the group following diet 1 and $\\mu _2$ represents the weight loss of the group following diet 2."
   ]
  },
  {
   "cell_type": "code",
   "execution_count": 30,
   "id": "8e0f3cf0",
   "metadata": {},
   "outputs": [
    {
     "name": "stdout",
     "output_type": "stream",
     "text": [
      "p-value for the shapiro test in group of the diet 1 is 0.9635409177367069\n",
      "p-value for the shapiro test in group of the diet 2 is 0.5905246580529597\n",
      "p-value for the levene's test is 0.15767770055358\n",
      "the t-value for the samples is -3.5383407969933938\n",
      "the p-value for the samples is 0.004083270191713912\n"
     ]
    }
   ],
   "source": [
    "# TODO\n",
    "\n",
    "import scipy.stats as stats\n",
    "\n",
    "diet1 = [2.0, 2.5, 3.0, 2.8, 2.3, 2.7, 2.5]\n",
    "diet2 = [3.0, 3.2, 3.1, 2.9, 2.8, 3.0, 3.2]\n",
    "\n",
    "# The t test usually makes some asumptions we can check:\n",
    "\n",
    "# Independent observations: this is true for the example and needs no mathematical verification.\n",
    "\n",
    "# Normality: usually this would be checked by plotting and determining that each group follows approximately a normal distribution.\n",
    "#     In this case, since the sample is very small, we won't do it whis way, and we will perform the Shapiro-Wilk test to check normality for small sample sizes.\n",
    "\n",
    "statistic1, p_value1 = stats.shapiro(diet1)\n",
    "statistic2, p_value2 = stats.shapiro(diet2)\n",
    "\n",
    "print(f'p-value for the shapiro test in group of the diet 1 is {p_value1}')\n",
    "print(f'p-value for the shapiro test in group of the diet 2 is {p_value2}')\n",
    "\n",
    "# Homogeneity of variances: again in this case, the sample is too small, so checking this vissually is not a good option.\n",
    "#     Once again there is a statistical test that is useful for this which is the levene's test.\n",
    "\n",
    "statistic1, p_value1 = stats.levene(diet1, diet2)\n",
    "print(f'p-value for the levene\\'s test is {p_value1}')\n",
    "\n",
    "# The other assumptions we should check are the continuity of the dependent variable for each group and that the independent variables are categorical.\n",
    "#     In this case we can say that both assumptions are true. \n",
    "\n",
    "\n",
    "# then we perform the t test:\n",
    "\n",
    "t_value, p_value = stats.ttest_ind(diet1, diet2, alternative='two-sided') # alternative='two-sided' is the default behavior of the function but i wanted to be explicit on showing what are we testing for.\n",
    "\n",
    "print(f'the t-value for the samples is {t_value}')\n",
    "print(f'the p-value for the samples is {p_value}')\n"
   ]
  },
  {
   "cell_type": "markdown",
   "id": "9186026d",
   "metadata": {},
   "source": [
    "#### **Conclusion**\n",
    "Given that the p-value is small (only 0.4%) we can negate the null hypotesis $H_0$ and accept the alternative hypotesis $H_1$, meaning that there is a diet whit values that indicate a bigger weight lose. It is important to keep in mind though, that the results for the tests of our assumptions are not great."
   ]
  },
  {
   "cell_type": "markdown",
   "id": "f432e18e",
   "metadata": {},
   "source": [
    "## ANOVA\n",
    "\n",
    "**ANOVA** (*Analysis of Variance*) is a statistical technique used to compare the measures of two or more groups. The idea behind ANOVA is to decompose the total variability in the data into two components: between-group variability and within-group variability:\n",
    "\n",
    "- **Between-group variability**: This variability refers to the differences between the group means. If this variability is considerably larger than the within-group variability, it could be an indication that at least one of the group means is different.\n",
    "- **Within-group variability**: This variability refers to the dispersion of the data within each group. If all groups have similar variability, then any noticeable difference in group means could be considered significant.\n",
    "\n",
    "Hypotheses in ANOVA typically include:\n",
    "\n",
    "- **Null hypothesis** ($H₀$): The means of all groups are equal.\n",
    "- **Alternative hypothesis** ($H₁$): At least one of the group means is different.\n",
    "\n",
    "If the ANOVA test result is significant (e.g., a p-value less than a threshold such as 0.05), this suggests that at least one group mean is different."
   ]
  },
  {
   "cell_type": "markdown",
   "id": "fc5f3721",
   "metadata": {},
   "source": [
    "## Exercise 2\n",
    "\n",
    "A farmer decides to test three different types of fertilizers to determine if one is superior in terms of corn production. The farmer plants corn on 15 identical plots and uses all three fertilizers (5 plots for each type). At the end of the season, he measures the corn yield (in kg) of each plot, with the following result:\n",
    "\n",
    "| Fertilizer 1 | Fertilizer 2 | Fertilizer 3 |\n",
    "|:-------------|:-------------|:-------------|\n",
    "| 20 | 22 | 24 |\n",
    "| 21 | 21 | 23 |\n",
    "| 20 | 23 | 22 |\n",
    "| 19 | 22 | 23 |\n",
    "| 20 | 21 | 24 |\n",
    "\n",
    "With this data, he seeks to answer the following question: Is there a significant difference in average corn yield between the three types of fertilizers?\n",
    "\n",
    "To help you, follow the points below:\n",
    "\n",
    "- State the hypothesis: null and alternative hypothesis.\n",
    "- Perform the ANOVA test.\n",
    "- Analyze the conclusions.\n",
    "- If one fertilizer is better than another, how can we know it?"
   ]
  },
  {
   "cell_type": "markdown",
   "id": "ecc9b1b2",
   "metadata": {},
   "source": [
    "#### **hypotesis**\n",
    "Let $\\mu_1$, $\\mu_2$ and $\\mu_3$ denote the average corn yield by planted plot of corn using the $1$-st, $2$-nd and $3$-rd fertilizer respectively.\n",
    "\n",
    "then our hypotesis are:\n",
    "$$\n",
    "H_1: \\mu _1 \\neq \\mu _2 \\quad or\\quad \\mu _2 \\neq \\mu _3 \\quad or\\quad \\mu _1 \\neq \\mu _3\\\\\n",
    "H_0: \\mu _1 = \\mu _2 = \\mu _3\n",
    "$$\n",
    "\n"
   ]
  },
  {
   "cell_type": "code",
   "execution_count": null,
   "id": "eecad0ca",
   "metadata": {},
   "outputs": [
    {
     "name": "stdout",
     "output_type": "stream",
     "text": [
      "p-value for the shapiro test in group 1 is 0.32542950716414576\n",
      "p-value for the shapiro test in group 2 is 0.3140395561440371\n",
      "p-value for the shapiro test in group 3 is 0.3140395561440371\n",
      "p-value for the levene's test is 0.8039599174006208\n",
      "the p value for the ANOVA test is 0.00014047824793190472\n",
      "according to this result, we can reject the null hypothesis, meaning there is a difference between the means of the data for each fertilizer.\n"
     ]
    }
   ],
   "source": [
    "# TODO\n",
    "import numpy as np\n",
    "import matplotlib.pyplot as plt\n",
    "\n",
    "fertilizer1 = [20, 21, 20, 19, 20]\n",
    "fertilizer2 = [22, 21, 23, 22, 21]\n",
    "fertilizer3 = [24, 23, 22, 23, 24]\n",
    "\n",
    "# The ANOVA test usually makes some asumptions we can check:\n",
    "\n",
    "# Independent observations: this is true for the example and needs no mathematical verification.\n",
    "\n",
    "# Normality: usually this would be checked by plotting and determining that each group follows approximately a normal distribution.\n",
    "#     In this case, since the sample is very small, we won't do it whis way, and we will perform the Shapiro-Wilk test to check normality for small sample sizes.\n",
    "\n",
    "statistic1, p_value1 = stats.shapiro(fertilizer1)\n",
    "statistic2, p_value2 = stats.shapiro(fertilizer2)\n",
    "statistic3, p_value3 = stats.shapiro(fertilizer3)\n",
    "\n",
    "print(f'p-value for the shapiro test in group 1 is {p_value1}')\n",
    "print(f'p-value for the shapiro test in group 2 is {p_value2}')\n",
    "print(f'p-value for the shapiro test in group 3 is {p_value3}')\n",
    "\n",
    "# Homogeneity of variances: again in this case, the sample is too small, so checking this vissually is not a good option.\n",
    "#     Once again there is a statistical test that is useful for this which is the levene's test.\n",
    "\n",
    "statistic1, p_value1 = stats.levene(fertilizer1, fertilizer2, fertilizer3)\n",
    "\n",
    "print(f'p-value for the levene\\'s test is {p_value1}')\n",
    "\n",
    "# The other assumptions we should check are the continuity of the dependent variable for each group and that the independent variables are categorical.\n",
    "#     In this case, although the values of the corn yielded seem to be discrete, is not unreasonable to assume they are not since they represent the weight\n",
    "#     and weight is a phisical magnitude that can be said to be continuous, so we can say that both assumptions are true. \n",
    "\n",
    "# then we perform the ANOVA test:\n",
    "statistic, p_value = stats.f_oneway(fertilizer1, fertilizer2, fertilizer3)\n",
    "print(f'the p value for the ANOVA test is {p_value}')\n",
    "print(f'according to this result, we can reject the null hypothesis, meaning there is a difference between the means of the data for each fertilizer.')\n"
   ]
  },
  {
   "cell_type": "markdown",
   "id": "414b8746",
   "metadata": {},
   "source": [
    "according to this, we can reject $H_0$ but it's important to keep in mind that our results for the levene's test and the Shapiro-Welsh tests were not great, so the value we got for the ANOVA test is not as trust-worthy as one may think at first."
   ]
  }
 ],
 "metadata": {
  "kernelspec": {
   "display_name": "Python 3",
   "language": "python",
   "name": "python3"
  },
  "language_info": {
   "codemirror_mode": {
    "name": "ipython",
    "version": 3
   },
   "file_extension": ".py",
   "mimetype": "text/x-python",
   "name": "python",
   "nbconvert_exporter": "python",
   "pygments_lexer": "ipython3",
   "version": "3.11.4"
  }
 },
 "nbformat": 4,
 "nbformat_minor": 5
}
