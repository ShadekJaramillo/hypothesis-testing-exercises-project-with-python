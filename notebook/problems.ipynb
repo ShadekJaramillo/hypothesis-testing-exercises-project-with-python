{
 "cells": [
  {
   "cell_type": "markdown",
   "id": "d9d036c6",
   "metadata": {},
   "source": [
    "# Hypothesis testing problems"
   ]
  },
  {
   "cell_type": "markdown",
   "id": "d157c4db",
   "metadata": {},
   "source": [
    "## Exercise 1\n",
    "\n",
    "You are a nutritionist researching two different types of diets to see if there is a significant difference in weight loss after one month. You choose two random groups of people; one group follows the first diet, and the other follows the second. At the end of the month, you record the weight loss (in kg) for each person:\n",
    "\n",
    "| Diet 1 | Diet 2 |\n",
    "|:-------|:-------|\n",
    "| 2.0 | 3.0 |\n",
    "| 2.5 | 3.2 |\n",
    "| 3.0 | 3.1 |\n",
    "| 2.8 | 2.9 |\n",
    "| 2.3 | 2.8 |\n",
    "| 2.7 | 3.0 |\n",
    "| 2.5 | 3.2 |\n",
    "\n",
    "With these data, it seeks to answer the following question: Is there a significant difference in average weight loss between people who followed the first diet and those who followed the second diet?\n",
    "\n",
    "To draw conclusions, follow the points below:\n",
    "\n",
    "- State the hypothesis: null and alternative hypothesis.\n",
    "- Perform the test to test the hypothesis. You can use a Student's t-test.\n",
    "- Analyze the conclusions."
   ]
  },
  {
   "cell_type": "markdown",
   "id": "2eb7be49",
   "metadata": {},
   "source": [
    "#### **Hypotesis**\n",
    "\n",
    "One of the diets is more effective for goal of losing weight. \n",
    "\n",
    "$$\n",
    "H_1: \\mu _1 \\neq \\mu _2\\\\\n",
    "H_0: \\mu _1 = \\mu _2 \n",
    "$$\n",
    "\n",
    "where $\\mu _1$ represents the weight loss of the group following diet 1 and $\\mu _2$ represents the weight loss of the group following diet 2."
   ]
  },
  {
   "cell_type": "code",
   "execution_count": 2,
   "id": "8e0f3cf0",
   "metadata": {},
   "outputs": [
    {
     "name": "stdout",
     "output_type": "stream",
     "text": [
      "the t-value for the samples is -3.5383407969933938\n",
      "the p-value for the samples is 0.004083270191713912\n"
     ]
    }
   ],
   "source": [
    "# TODO\n",
    "\n",
    "import scipy.stats as stats\n",
    "\n",
    "dieta1 = [2.0, 2.5, 3.0, 2.8, 2.3, 2.7, 2.5]\n",
    "dieta2 = [3.0, 3.2, 3.1, 2.9, 2.8, 3.0, 3.2]\n",
    "\n",
    "t_value, p_value = stats.ttest_ind(dieta1, dieta2)\n",
    "\n",
    "print(f'the t-value for the samples is {t_value}')\n",
    "print(f'the p-value for the samples is {p_value}')\n"
   ]
  },
  {
   "cell_type": "markdown",
   "id": "9186026d",
   "metadata": {},
   "source": [
    "#### **Conclusion**\n",
    "Given that the p-value is small (only 0.4%) we can negate the null hypotesis $H_0$ and accept the alternative hypotesis $H_1$, meaning that there is a diet whit values that indicate a bigger weight lose."
   ]
  },
  {
   "cell_type": "markdown",
   "id": "f432e18e",
   "metadata": {},
   "source": [
    "## ANOVA\n",
    "\n",
    "**ANOVA** (*Analysis of Variance*) is a statistical technique used to compare the measures of two or more groups. The idea behind ANOVA is to decompose the total variability in the data into two components: between-group variability and within-group variability:\n",
    "\n",
    "- **Between-group variability**: This variability refers to the differences between the group means. If this variability is considerably larger than the within-group variability, it could be an indication that at least one of the group means is different.\n",
    "- **Within-group variability**: This variability refers to the dispersion of the data within each group. If all groups have similar variability, then any noticeable difference in group means could be considered significant.\n",
    "\n",
    "Hypotheses in ANOVA typically include:\n",
    "\n",
    "- **Null hypothesis** ($H₀$): The means of all groups are equal.\n",
    "- **Alternative hypothesis** ($H₁$): At least one of the group means is different.\n",
    "\n",
    "If the ANOVA test result is significant (e.g., a p-value less than a threshold such as 0.05), this suggests that at least one group mean is different."
   ]
  },
  {
   "cell_type": "markdown",
   "id": "fc5f3721",
   "metadata": {},
   "source": [
    "## Exercise 2\n",
    "\n",
    "A farmer decides to test three different types of fertilizers to determine if one is superior in terms of corn production. The farmer plants corn on 15 identical plots and uses all three fertilizers (5 plots for each type). At the end of the season, he measures the corn yield (in kg) of each plot, with the following result:\n",
    "\n",
    "| Fertilizer 1 | Fertilizer 2 | Fertilizer 3 |\n",
    "|:-------------|:-------------|:-------------|\n",
    "| 20 | 22 | 24 |\n",
    "| 21 | 21 | 23 |\n",
    "| 20 | 23 | 22 |\n",
    "| 19 | 22 | 23 |\n",
    "| 20 | 21 | 24 |\n",
    "\n",
    "With this data, he seeks to answer the following question: Is there a significant difference in average corn yield between the three types of fertilizers?\n",
    "\n",
    "To help you, follow the points below:\n",
    "\n",
    "- State the hypothesis: null and alternative hypothesis.\n",
    "- Perform the ANOVA test.\n",
    "- Analyze the conclusions.\n",
    "- If one fertilizer is better than another, how can we know it?"
   ]
  },
  {
   "cell_type": "markdown",
   "id": "ecc9b1b2",
   "metadata": {},
   "source": [
    "#### **hypotesis**\n",
    "Let $\\mu_1$, $\\mu_2$ and $\\mu_3$ denote the average corn yield by planted plot of corn using the $1$-st, $2$-nd and $3$-rd fertilizer respectively.\n",
    "\n",
    "then our hypotesis are:\n",
    "$$\n",
    "H_1: \\mu _1 \\neq \\mu _2 \\quad or\\quad \\mu _2 \\neq \\mu _3 \\quad or\\quad \\mu _1 \\neq \\mu _3\\\\\n",
    "H_0: \\mu _1 = \\mu _2 = \\mu _3\n",
    "$$\n",
    "\n"
   ]
  },
  {
   "cell_type": "code",
   "execution_count": 5,
   "id": "eecad0ca",
   "metadata": {},
   "outputs": [
    {
     "name": "stdout",
     "output_type": "stream",
     "text": [
      "     Multiple Comparison of Means - Tukey HSD, FWER=0.05      \n",
      "==============================================================\n",
      "   group1       group2    meandiff p-adj  lower  upper  reject\n",
      "--------------------------------------------------------------\n",
      "Fertilizer 1 Fertilizer 2      1.8 0.0099 0.4572 3.1428   True\n",
      "Fertilizer 1 Fertilizer 3      3.2 0.0001 1.8572 4.5428   True\n",
      "Fertilizer 2 Fertilizer 3      1.4 0.0409 0.0572 2.7428   True\n",
      "--------------------------------------------------------------\n"
     ]
    }
   ],
   "source": [
    "# TODO\n",
    "from statsmodels.stats.multicomp import pairwise_tukeyhsd\n",
    "import numpy as np\n",
    "\n",
    "fertilizer1 = [20, 21, 20, 19, 20]\n",
    "fertilizer2 = [22, 21, 23, 22, 21]\n",
    "fertilizer3 = [24, 23, 22, 23, 24]\n",
    "\n",
    "data = np.concat((fertilizer1, fertilizer2, fertilizer3))\n",
    "labels = 5*['Fertilizer 1'] + 5*['Fertilizer 2'] + 5*['Fertilizer 3']\n",
    "\n",
    "print(pairwise_tukeyhsd(data, labels, alpha = 0.05))\n"
   ]
  },
  {
   "cell_type": "markdown",
   "id": "414b8746",
   "metadata": {},
   "source": [
    "according to this, we can reject $H_0$ completely."
   ]
  }
 ],
 "metadata": {
  "kernelspec": {
   "display_name": "Python 3",
   "language": "python",
   "name": "python3"
  },
  "language_info": {
   "codemirror_mode": {
    "name": "ipython",
    "version": 3
   },
   "file_extension": ".py",
   "mimetype": "text/x-python",
   "name": "python",
   "nbconvert_exporter": "python",
   "pygments_lexer": "ipython3",
   "version": "3.11.4"
  }
 },
 "nbformat": 4,
 "nbformat_minor": 5
}
